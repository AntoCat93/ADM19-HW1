{
 "cells": [
  {
   "cell_type": "markdown",
   "metadata": {},
   "source": [
    "# Problem 1 "
   ]
  },
  {
   "cell_type": "markdown",
   "metadata": {},
   "source": [
    "## Introduction"
   ]
  },
  {
   "cell_type": "markdown",
   "metadata": {},
   "source": [
    "#### Say \"Hello, World!\" With Python"
   ]
  },
  {
   "cell_type": "code",
   "execution_count": 31,
   "metadata": {},
   "outputs": [
    {
     "name": "stdout",
     "output_type": "stream",
     "text": [
      "Hello, World!\n"
     ]
    }
   ],
   "source": [
    "print(\"Hello, World!\")"
   ]
  },
  {
   "cell_type": "markdown",
   "metadata": {},
   "source": [
    "#### Python If-Else"
   ]
  },
  {
   "cell_type": "code",
   "execution_count": 9,
   "metadata": {
    "scrolled": true
   },
   "outputs": [
    {
     "name": "stdout",
     "output_type": "stream",
     "text": [
      "3\n",
      "Weird\n"
     ]
    }
   ],
   "source": [
    "n = int(input())\n",
    "if n%2:\n",
    "    print(\"Weird\")\n",
    "else:\n",
    "    if (n >= 2 and n <= 5) or n > 20:\n",
    "        print(\"Not Weird\")\n",
    "    else:\n",
    "        print(\"Weird\")"
   ]
  },
  {
   "cell_type": "markdown",
   "metadata": {},
   "source": [
    "#### Arithmetic Operators"
   ]
  },
  {
   "cell_type": "code",
   "execution_count": 8,
   "metadata": {
    "scrolled": true
   },
   "outputs": [
    {
     "name": "stdout",
     "output_type": "stream",
     "text": [
      "4\n",
      "3\n",
      "7\n",
      "1\n",
      "12\n"
     ]
    }
   ],
   "source": [
    "a = int(input())\n",
    "b = int(input())\n",
    "print(a+b)\n",
    "print(a-b)\n",
    "print(a*b)"
   ]
  },
  {
   "cell_type": "markdown",
   "metadata": {},
   "source": [
    "#### Python: Division"
   ]
  },
  {
   "cell_type": "code",
   "execution_count": 13,
   "metadata": {},
   "outputs": [
    {
     "name": "stdout",
     "output_type": "stream",
     "text": [
      "4\n",
      "3\n",
      "1\n",
      "1.3333333333333333\n"
     ]
    }
   ],
   "source": [
    "a = int(input())\n",
    "b = int(input())\n",
    "print(a//b)\n",
    "print(a/b)"
   ]
  },
  {
   "cell_type": "markdown",
   "metadata": {},
   "source": [
    "#### Loops"
   ]
  },
  {
   "cell_type": "code",
   "execution_count": 15,
   "metadata": {},
   "outputs": [
    {
     "name": "stdout",
     "output_type": "stream",
     "text": [
      "5\n",
      "0\n",
      "1\n",
      "4\n",
      "9\n",
      "16\n"
     ]
    }
   ],
   "source": [
    "n = int(input())\n",
    "for i in range (0,n):\n",
    "    print(i**2)"
   ]
  },
  {
   "cell_type": "markdown",
   "metadata": {},
   "source": [
    "#### Write a function"
   ]
  },
  {
   "cell_type": "code",
   "execution_count": 22,
   "metadata": {},
   "outputs": [
    {
     "name": "stdout",
     "output_type": "stream",
     "text": [
      "40000\n",
      "True\n"
     ]
    }
   ],
   "source": [
    "def is_leap(year):\n",
    "    res = False\n",
    "    if not year % 4:\n",
    "        if not year % 100:\n",
    "            if not year % 400:\n",
    "                res = True\n",
    "            else:\n",
    "                res = False\n",
    "        else:\n",
    "            res = True\n",
    "    return res\n",
    "\n",
    "x = int(input())\n",
    "print(is_leap(x))"
   ]
  },
  {
   "cell_type": "markdown",
   "metadata": {},
   "source": [
    "#### Print Function"
   ]
  },
  {
   "cell_type": "code",
   "execution_count": 30,
   "metadata": {},
   "outputs": [
    {
     "name": "stdout",
     "output_type": "stream",
     "text": [
      "4\n",
      "1234\n"
     ]
    }
   ],
   "source": [
    "n = int(input())\n",
    "list_n = range(1,n+1)\n",
    "print(*list_n, sep = '')"
   ]
  },
  {
   "cell_type": "markdown",
   "metadata": {},
   "source": [
    "## Data types"
   ]
  },
  {
   "cell_type": "markdown",
   "metadata": {},
   "source": [
    "#### List Comprehensions"
   ]
  },
  {
   "cell_type": "code",
   "execution_count": 35,
   "metadata": {},
   "outputs": [
    {
     "name": "stdout",
     "output_type": "stream",
     "text": [
      "1\n",
      "1\n",
      "2\n",
      "1\n",
      "[[0, 0, 0], [0, 0, 2], [0, 1, 1], [0, 1, 2], [1, 0, 1], [1, 0, 2], [1, 1, 0], [1, 1, 1], [1, 1, 2]]\n"
     ]
    }
   ],
   "source": [
    "x = int(input())\n",
    "y = int(input())\n",
    "z = int(input())\n",
    "n = int(input())\n",
    "arr = [[i,j,k] for i in range(x+1) for j in range(y+1) for k in range(z+1) if i + j + k != n]\n",
    "print(arr)"
   ]
  },
  {
   "cell_type": "markdown",
   "metadata": {},
   "source": [
    "#### Find the Runner-Up Score!"
   ]
  },
  {
   "cell_type": "code",
   "execution_count": 48,
   "metadata": {},
   "outputs": [
    {
     "name": "stdout",
     "output_type": "stream",
     "text": [
      "9\n",
      "2 39 48 57 48 39 29 38 48 29\n",
      "48\n"
     ]
    }
   ],
   "source": [
    "n = int(input())\n",
    "arr = input().split()\n",
    "arr = [ int(x) for x in arr ]\n",
    "max_score = max(arr)\n",
    "new_arr = [i for i in arr if i != max_score]\n",
    "if len(new_arr) > 0:\n",
    "    print(max(new_arr))"
   ]
  },
  {
   "cell_type": "markdown",
   "metadata": {},
   "source": [
    "#### Nested Lists"
   ]
  },
  {
   "cell_type": "code",
   "execution_count": 62,
   "metadata": {},
   "outputs": [
    {
     "name": "stdout",
     "output_type": "stream",
     "text": [
      "4\n",
      "giacomo3\n",
      "30\n",
      "nic\n",
      "28\n",
      "mavi\n",
      "28\n",
      "clara\n",
      "25\n",
      "mavi\n",
      "nic\n"
     ]
    }
   ],
   "source": [
    "n = int(input())\n",
    "arr = []\n",
    "votes = []\n",
    "for i in range(n):\n",
    "    name = input()\n",
    "    vote = float(input())\n",
    "    votes.append(vote)\n",
    "    arr.append([name, vote])\n",
    "second_vote = sorted(list(set(votes)))[1]\n",
    "second_names = [name for name, vote in arr if vote == second_vote]\n",
    "for name in sorted(second_names):\n",
    "    print(name)"
   ]
  },
  {
   "cell_type": "markdown",
   "metadata": {},
   "source": [
    "#### Finding the percentage"
   ]
  },
  {
   "cell_type": "code",
   "execution_count": 75,
   "metadata": {
    "scrolled": true
   },
   "outputs": [
    {
     "name": "stdout",
     "output_type": "stream",
     "text": [
      "2\n",
      "cla 20 30 40\n",
      "cat 20 39 40.1\n",
      "cat\n",
      "33.03\n"
     ]
    }
   ],
   "source": [
    "n = int(input())\n",
    "student_marks = {}\n",
    "for _ in range(n):\n",
    "    name, *line = input().split()\n",
    "    scores = list(map(float, line))\n",
    "    student_marks[name] = scores\n",
    "query_name = input()\n",
    "print(\t\"{:.2f}\".format(sum(student_marks[query_name])/len(student_marks[query_name])))"
   ]
  },
  {
   "cell_type": "markdown",
   "metadata": {},
   "source": [
    "#### Lists"
   ]
  },
  {
   "cell_type": "code",
   "execution_count": 86,
   "metadata": {},
   "outputs": [
    {
     "name": "stdout",
     "output_type": "stream",
     "text": [
      "4\n",
      "insert 0 1\n",
      "insert 0 -2\n",
      "sort\n",
      "print\n",
      "[-2, 1]\n"
     ]
    }
   ],
   "source": [
    "if __name__ == '__main__':\n",
    "    N = int(input())\n",
    "    res = [] \n",
    "    for i in range(N):\n",
    "        command = input().split()\n",
    "        function = command[0]\n",
    "        param_a = int(command[1]) if len(command) > 1 else ''\n",
    "        param_b = int(command[2]) if len(command) > 2 else ''\n",
    "        if function == \"print\":\n",
    "            print(res)\n",
    "        elif function == \"insert\":\n",
    "            res.insert(param_a, param_b)\n",
    "        elif function == \"append\":\n",
    "            res.append(param_a)\n",
    "        elif function == \"delete\":\n",
    "            res.delete(param_a)\n",
    "        elif function == \"reverse\":\n",
    "            res.reverse()\n",
    "        elif function == \"pop\":\n",
    "            res.pop()\n",
    "        elif function == \"sort\":\n",
    "            res.sort()"
   ]
  },
  {
   "cell_type": "markdown",
   "metadata": {},
   "source": [
    "#### Tuples"
   ]
  },
  {
   "cell_type": "code",
   "execution_count": 89,
   "metadata": {},
   "outputs": [
    {
     "name": "stdout",
     "output_type": "stream",
     "text": [
      "2\n",
      "1 2 \n",
      "3713081631934410656\n"
     ]
    }
   ],
   "source": [
    "if __name__ == '__main__':\n",
    "    n = int(input())\n",
    "    integer_list = map(int, input().split())\n",
    "    print(hash(tuple(integer_list)))"
   ]
  },
  {
   "cell_type": "markdown",
   "metadata": {},
   "source": [
    "## Strings"
   ]
  },
  {
   "cell_type": "markdown",
   "metadata": {},
   "source": [
    "#### sWAP cASE"
   ]
  },
  {
   "cell_type": "code",
   "execution_count": 94,
   "metadata": {},
   "outputs": [
    {
     "name": "stdout",
     "output_type": "stream",
     "text": [
      "ciaO M\n",
      "CIAo m\n"
     ]
    }
   ],
   "source": [
    "def swap_case(s):\n",
    "    return s.swapcase()\n",
    "\n",
    "if __name__ == '__main__':\n",
    "    s = input()\n",
    "    result = swap_case(s)\n",
    "    print(result)"
   ]
  },
  {
   "cell_type": "markdown",
   "metadata": {},
   "source": [
    "#### String Split and Join"
   ]
  },
  {
   "cell_type": "code",
   "execution_count": 95,
   "metadata": {},
   "outputs": [
    {
     "name": "stdout",
     "output_type": "stream",
     "text": [
      "ciao mirko\n",
      "ciao-mirko\n"
     ]
    }
   ],
   "source": [
    "def split_and_join(line):\n",
    "    return \"-\".join(line.split())\n",
    "    \n",
    "if __name__ == '__main__':\n",
    "    line = input()\n",
    "    result = split_and_join(line)\n",
    "    print(result)"
   ]
  },
  {
   "cell_type": "markdown",
   "metadata": {},
   "source": [
    "#### What's Your Name?"
   ]
  },
  {
   "cell_type": "code",
   "execution_count": 101,
   "metadata": {},
   "outputs": [
    {
     "name": "stdout",
     "output_type": "stream",
     "text": [
      "antonio\n",
      "cataldi\n",
      "Hello antonio cataldi! You just delved into python.\n"
     ]
    }
   ],
   "source": [
    "def print_full_name(a, b):\n",
    "    print(\"Hello {} {}! You just delved into python.\".format(a,b))\n",
    "\n",
    "if __name__ == '__main__':\n",
    "    first_name = input()\n",
    "    last_name = input()\n",
    "    print_full_name(first_name, last_name)"
   ]
  },
  {
   "cell_type": "markdown",
   "metadata": {},
   "source": [
    "#### Mutations"
   ]
  },
  {
   "cell_type": "code",
   "execution_count": 103,
   "metadata": {},
   "outputs": [
    {
     "name": "stdout",
     "output_type": "stream",
     "text": [
      "ciao\n",
      "2 k\n",
      "ciko\n"
     ]
    }
   ],
   "source": [
    "def mutate_string(string, position, character):\n",
    "    return string[:position] + character + string[position+1:]\n",
    "\n",
    "if __name__ == '__main__':\n",
    "    s = input()\n",
    "    i, c = input().split()\n",
    "    s_new = mutate_string(s, int(i), c)\n",
    "    print(s_new)"
   ]
  },
  {
   "cell_type": "markdown",
   "metadata": {},
   "source": [
    "#### Find a string"
   ]
  },
  {
   "cell_type": "code",
   "execution_count": 108,
   "metadata": {},
   "outputs": [
    {
     "name": "stdout",
     "output_type": "stream",
     "text": [
      "ciaoaoamt\n",
      "aoa\n",
      "2\n"
     ]
    }
   ],
   "source": [
    "def count_substring(string, sub_string):\n",
    "    count = 0\n",
    "    for i in range(len(string)):\n",
    "        if sub_string == string[i:i+len(sub_string)]:\n",
    "            count = count + 1\n",
    "    return count\n",
    "                \n",
    "\n",
    "if __name__ == '__main__':\n",
    "    string = input().strip()\n",
    "    sub_string = input().strip()\n",
    "    \n",
    "    count = count_substring(string, sub_string)\n",
    "    print(count)"
   ]
  },
  {
   "cell_type": "markdown",
   "metadata": {},
   "source": [
    "#### String Validators"
   ]
  },
  {
   "cell_type": "code",
   "execution_count": 112,
   "metadata": {},
   "outputs": [
    {
     "name": "stdout",
     "output_type": "stream",
     "text": [
      "ciao\n",
      "True\n",
      "True\n",
      "False\n",
      "True\n",
      "False\n"
     ]
    }
   ],
   "source": [
    "if __name__ == '__main__':\n",
    "    s = input()\n",
    "    isTrue = False\n",
    "    for i in range(len(s)):\n",
    "        if s[i].isalnum():\n",
    "            isTrue = True\n",
    "    print(isTrue)\n",
    "    isTrue = False\n",
    "    for i in range(len(s)):\n",
    "        if s[i].isalpha():\n",
    "            isTrue = True\n",
    "    print(isTrue)\n",
    "    isTrue = False\n",
    "    for i in range(len(s)):\n",
    "        if s[i].isdigit():\n",
    "            isTrue = True\n",
    "    print(isTrue)\n",
    "    isTrue = False\n",
    "    for i in range(len(s)):\n",
    "        if s[i].islower():\n",
    "            isTrue = True\n",
    "    print(isTrue)\n",
    "    isTrue = False\n",
    "    for i in range(len(s)):\n",
    "        if s[i].isupper():\n",
    "            isTrue = True\n",
    "    print(isTrue)"
   ]
  },
  {
   "cell_type": "markdown",
   "metadata": {},
   "source": [
    "#### Text Wrap"
   ]
  },
  {
   "cell_type": "code",
   "execution_count": 115,
   "metadata": {},
   "outputs": [
    {
     "name": "stdout",
     "output_type": "stream",
     "text": [
      "ciaomammaguardacomemidiverto\n",
      "3\n",
      "cia\n",
      "oma\n",
      "mma\n",
      "gua\n",
      "rda\n",
      "com\n",
      "emi\n",
      "div\n",
      "ert\n",
      "o\n"
     ]
    }
   ],
   "source": [
    "import textwrap\n",
    "\n",
    "def wrap(string, max_width):\n",
    "    return \"\\n\".join([string[i:i+max_width] for i in range(0, len(string), max_width)])\n",
    "\n",
    "if __name__ == '__main__':\n",
    "    string, max_width = input(), int(input())\n",
    "    result = wrap(string, max_width)\n",
    "    print(result)"
   ]
  },
  {
   "cell_type": "markdown",
   "metadata": {},
   "source": [
    "#### Designer Door Mat"
   ]
  },
  {
   "cell_type": "code",
   "execution_count": 132,
   "metadata": {},
   "outputs": [
    {
     "name": "stdout",
     "output_type": "stream",
     "text": [
      "15 45\n",
      "---------------------.|.---------------------\n",
      "------------------.|..|..|.------------------\n",
      "---------------.|..|..|..|..|.---------------\n",
      "------------.|..|..|..|..|..|..|.------------\n",
      "---------.|..|..|..|..|..|..|..|..|.---------\n",
      "------.|..|..|..|..|..|..|..|..|..|..|.------\n",
      "---.|..|..|..|..|..|..|..|..|..|..|..|..|.---\n",
      "-------------------WELCOME-------------------\n",
      "---.|..|..|..|..|..|..|..|..|..|..|..|..|.---\n",
      "------.|..|..|..|..|..|..|..|..|..|..|.------\n",
      "---------.|..|..|..|..|..|..|..|..|.---------\n",
      "------------.|..|..|..|..|..|..|.------------\n",
      "---------------.|..|..|..|..|.---------------\n",
      "------------------.|..|..|.------------------\n",
      "---------------------.|.---------------------\n"
     ]
    }
   ],
   "source": [
    "N, M = map(int, input().split())\n",
    "for i in range(0, N//2):\n",
    "    factor = 2*i + 1\n",
    "    print('-'*(M//2-factor-i),factor * '.|.',(M//2-factor-i) * '-', sep = \"\")\n",
    "print((M//2-3)*'-', \"WELCOME\", (M//2-3)*'-', sep =\"\")\n",
    "for i in reversed(range(0, N//2)):\n",
    "    factor = 2*i + 1\n",
    "    print('-'*(M//2-factor-i),factor * '.|.',(M//2-factor-i) * '-', sep = \"\")"
   ]
  },
  {
   "cell_type": "markdown",
   "metadata": {},
   "source": [
    "#### String Formatting"
   ]
  },
  {
   "cell_type": "code",
   "execution_count": 154,
   "metadata": {},
   "outputs": [
    {
     "name": "stdout",
     "output_type": "stream",
     "text": [
      "20\n",
      "    1     1     1     1\n",
      "    2     2     2    10\n",
      "    3     3     3    11\n",
      "    4     4     4   100\n",
      "    5     5     5   101\n",
      "    6     6     6   110\n",
      "    7     7     7   111\n",
      "    8    10     8  1000\n",
      "    9    11     9  1001\n",
      "   10    12     A  1010\n",
      "   11    13     B  1011\n",
      "   12    14     C  1100\n",
      "   13    15     D  1101\n",
      "   14    16     E  1110\n",
      "   15    17     F  1111\n",
      "   16    20    10 10000\n",
      "   17    21    11 10001\n",
      "   18    22    12 10010\n",
      "   19    23    13 10011\n",
      "   20    24    14 10100\n"
     ]
    }
   ],
   "source": [
    "def print_formatted(n):\n",
    "    # your code goes here\n",
    "    max_str_binary = \"{0:b}\".format(n)\n",
    "    len_max_binary = len(max_str_binary)\n",
    "    for i in range(1,n+1):\n",
    "        print(\"{0:{len}d} {0:{len}o} {0:{len}X} {0:{len}b}\".format(i, len = len_max_binary))\n",
    "    \n",
    "if __name__ == '__main__':\n",
    "    n = int(input())\n",
    "    print_formatted(n)"
   ]
  },
  {
   "cell_type": "markdown",
   "metadata": {},
   "source": [
    "#### Alphabet Rangoli"
   ]
  },
  {
   "cell_type": "code",
   "execution_count": 207,
   "metadata": {},
   "outputs": [
    {
     "name": "stdout",
     "output_type": "stream",
     "text": [
      "10\n",
      "------------------j------------------\n",
      "----------------j-i-j----------------\n",
      "--------------j-i-h-i-j--------------\n",
      "------------j-i-h-g-h-i-j------------\n",
      "----------j-i-h-g-f-g-h-i-j----------\n",
      "--------j-i-h-g-f-e-f-g-h-i-j--------\n",
      "------j-i-h-g-f-e-d-e-f-g-h-i-j------\n",
      "----j-i-h-g-f-e-d-c-d-e-f-g-h-i-j----\n",
      "--j-i-h-g-f-e-d-c-b-c-d-e-f-g-h-i-j--\n",
      "j-i-h-g-f-e-d-c-b-a-b-c-d-e-f-g-h-i-j\n",
      "--j-i-h-g-f-e-d-c-b-c-d-e-f-g-h-i-j--\n",
      "----j-i-h-g-f-e-d-c-d-e-f-g-h-i-j----\n",
      "------j-i-h-g-f-e-d-e-f-g-h-i-j------\n",
      "--------j-i-h-g-f-e-f-g-h-i-j--------\n",
      "----------j-i-h-g-f-g-h-i-j----------\n",
      "------------j-i-h-g-h-i-j------------\n",
      "--------------j-i-h-i-j--------------\n",
      "----------------j-i-j----------------\n",
      "------------------j------------------\n"
     ]
    }
   ],
   "source": [
    "def print_rangoli(size):\n",
    "    res = []\n",
    "    lens = (size * 4 - 3)\n",
    "    for i in range(size):\n",
    "        s = ''\n",
    "        for j in reversed(range(size-i-1, size)):\n",
    "            s = s +(chr(ord('a') + j)) + \"-\"\n",
    "        for j in range(size-i, size):\n",
    "            s = s +(chr(ord('a') + j)) + \"-\"\n",
    "        s = s[:-1]\n",
    "        s = '-' * ((lens - len(s)) //2) + s + '-' * ((lens - len(s)) //2) \n",
    "        res.insert(i,s)\n",
    "    cnt = 0\n",
    "    for el in reversed(res):\n",
    "        if cnt != 0:\n",
    "            res.append(el)\n",
    "        cnt = cnt +1\n",
    "    print(\"\\n\".join(res))\n",
    "    \n",
    "if __name__ == '__main__':\n",
    "    n = int(input())\n",
    "    print_rangoli(n)"
   ]
  },
  {
   "cell_type": "markdown",
   "metadata": {},
   "source": [
    "#### Capitalize!"
   ]
  },
  {
   "cell_type": "code",
   "execution_count": 221,
   "metadata": {},
   "outputs": [
    {
     "name": "stdout",
     "output_type": "stream",
     "text": [
      "antonio maria cataldi\n",
      "Antonio Maria Cataldi\n"
     ]
    }
   ],
   "source": [
    "#!/bin/python3\n",
    "\n",
    "import math\n",
    "import os\n",
    "import random\n",
    "import re\n",
    "import sys\n",
    "\n",
    "# Complete the solve function below.\n",
    "def solve(s):\n",
    "    arr = [ x.capitalize() for x in s.split(\" \")]\n",
    "    return \" \".join(arr)\n",
    "    \n",
    "if __name__ == '__main__':\n",
    "    fptr = open(os.environ['OUTPUT_PATH'], 'w')\n",
    "\n",
    "    s = input()\n",
    "\n",
    "    result = solve(s)\n",
    "\n",
    "    fptr.write(result + '\\n')\n",
    "\n",
    "    fptr.close()"
   ]
  },
  {
   "cell_type": "markdown",
   "metadata": {},
   "source": [
    "#### The Minion Game  (TO SUBMIT)"
   ]
  },
  {
   "cell_type": "code",
   "execution_count": 247,
   "metadata": {},
   "outputs": [
    {
     "name": "stdout",
     "output_type": "stream",
     "text": [
      "BANANA\n",
      "Stuart 12\n"
     ]
    }
   ],
   "source": [
    "def minion_game(string):\n",
    "    # your code goes here\n",
    "    score_stuart = 0\n",
    "    score_kevin = 0\n",
    "    vowels = ['A', 'E', 'I', 'O', 'U']\n",
    "    for i in range(len(string)):\n",
    "        for j in range(i+1,len(string)+1):\n",
    "            if string[i:j] != '':\n",
    "                if string[i] not in vowels:\n",
    "                    score_stuart = score_stuart + 1\n",
    "                elif string[i] in vowels:\n",
    "                    score_kevin = score_kevin + 1\n",
    "    if score_stuart > score_kevin:\n",
    "        print(\"Stuart \" + str(score_stuart))\n",
    "    elif score_kevin > score_stuart:\n",
    "        print(\"Kevin \" + str(score_kevin))\n",
    "    else:\n",
    "        print(\"Draw\")\n",
    "    \n",
    "if __name__ == '__main__':\n",
    "    s = input()\n",
    "    minion_game(s)"
   ]
  },
  {
   "cell_type": "markdown",
   "metadata": {},
   "source": [
    "#### Merge the Tools!"
   ]
  },
  {
   "cell_type": "code",
   "execution_count": 266,
   "metadata": {},
   "outputs": [
    {
     "name": "stdout",
     "output_type": "stream",
     "text": [
      "ABBDDFEEGERR\n",
      "4\n",
      "ABD\n",
      "DFE\n",
      "GER\n"
     ]
    }
   ],
   "source": [
    "def merge_the_tools(string, k):\n",
    "    # your code goes here\n",
    "    size = len(string)\n",
    "    substrs = [string[i:i+k] for i in range(0, size, k)]\n",
    "    res = []\n",
    "    for el in substrs:\n",
    "        new_substr = \"\"\n",
    "        for a in el:\n",
    "            new_substr = (new_substr + a if a not in new_substr else new_substr)\n",
    "        res.append(new_substr)\n",
    "    print(*res, sep=\"\\n\")\n",
    "    \n",
    "if __name__ == '__main__':\n",
    "    string, k = input(), int(input())\n",
    "    merge_the_tools(string, k)"
   ]
  },
  {
   "cell_type": "markdown",
   "metadata": {},
   "source": [
    "## SET"
   ]
  },
  {
   "cell_type": "markdown",
   "metadata": {},
   "source": [
    "#### Introduction to Sets"
   ]
  },
  {
   "cell_type": "code",
   "execution_count": 278,
   "metadata": {},
   "outputs": [
    {
     "name": "stdout",
     "output_type": "stream",
     "text": [
      "10\n",
      "161 182 161 154 176 170 167 171 170 174\n",
      "169.375\n"
     ]
    }
   ],
   "source": [
    "def average(array):\n",
    "    # your code goes here\n",
    "    return sum(set(array)) / len(set(array))\n",
    "\n",
    "if __name__ == '__main__':\n",
    "    n = int(input())\n",
    "    arr = list(map(int, input().split()))\n",
    "    result = average(arr)\n",
    "    print(result)"
   ]
  },
  {
   "cell_type": "markdown",
   "metadata": {},
   "source": [
    "#### Symmetric Difference\n",
    "\n"
   ]
  },
  {
   "cell_type": "code",
   "execution_count": 286,
   "metadata": {},
   "outputs": [
    {
     "name": "stdout",
     "output_type": "stream",
     "text": [
      "3\n",
      "3 2 1\n",
      "4\n",
      "2 1 9 -10\n",
      "-10\n",
      "3\n",
      "9\n"
     ]
    }
   ],
   "source": [
    "len_a, a, len_b, b = int(input()), list(map(int, input().split())), int(input()), list(map(int,input().split()))\n",
    "print(*sorted(set(a) ^ set(b)),sep = \"\\n\")"
   ]
  },
  {
   "cell_type": "markdown",
   "metadata": {},
   "source": [
    "#### No Idea!"
   ]
  },
  {
   "cell_type": "code",
   "execution_count": 295,
   "metadata": {},
   "outputs": [
    {
     "name": "stdout",
     "output_type": "stream",
     "text": [
      "3 2\n",
      "5 8 9 \n",
      "5 8 \n",
      "1 2\n",
      "2\n"
     ]
    }
   ],
   "source": [
    "nm = list(map(int, input().split()))\n",
    "n = nm[0]\n",
    "m = nm[1]\n",
    "arr_n, a, b = list(map(int, input().split())), set(map(int, input().split())), set(map(int, input().split()))\n",
    "score = 0\n",
    "for el in arr_n:\n",
    "    if el in a:\n",
    "        score += 1\n",
    "    elif el in b:\n",
    "        score -= 1\n",
    "print(score)"
   ]
  },
  {
   "cell_type": "markdown",
   "metadata": {},
   "source": [
    "#### Set .add()"
   ]
  },
  {
   "cell_type": "code",
   "execution_count": 298,
   "metadata": {},
   "outputs": [
    {
     "name": "stdout",
     "output_type": "stream",
     "text": [
      "7\n",
      "usa\n",
      "usa\n",
      "usa\n",
      "usa\n",
      "usa\n",
      "usa\n",
      "italy\n",
      "2\n"
     ]
    }
   ],
   "source": [
    "N = int(input())\n",
    "states = [ input() for _ in range(N)]\n",
    "print(len(set(states)))"
   ]
  },
  {
   "cell_type": "markdown",
   "metadata": {},
   "source": [
    "#### Set .discard(), .remove() & .pop()"
   ]
  },
  {
   "cell_type": "code",
   "execution_count": 303,
   "metadata": {},
   "outputs": [
    {
     "name": "stdout",
     "output_type": "stream",
     "text": [
      "4\n",
      "2 3 4 5\n",
      "2\n",
      "discard 4\n",
      "pop\n",
      "8\n"
     ]
    }
   ],
   "source": [
    "n = int(input())\n",
    "s = set(map(int, input().split()))\n",
    "N = int(input())\n",
    "for _ in range(N):\n",
    "    command = input().split()\n",
    "    function = command[0]\n",
    "    param = int(command[1]) if len(command) > 1 else ''\n",
    "    if function == \"remove\":\n",
    "        s.remove(param)\n",
    "    elif function == \"discard\":\n",
    "        s.discard(param)\n",
    "    elif function == \"pop\":\n",
    "        s.pop()\n",
    "sum_s = 0\n",
    "for num in s:\n",
    "    sum_s += num\n",
    "print(sum_s)\n",
    "    "
   ]
  },
  {
   "cell_type": "markdown",
   "metadata": {},
   "source": [
    "#### Set .union() Operation\n",
    "\n"
   ]
  },
  {
   "cell_type": "code",
   "execution_count": 305,
   "metadata": {},
   "outputs": [
    {
     "name": "stdout",
     "output_type": "stream",
     "text": [
      "9\n",
      "1 2 3 4 5 6 7 8 9\n",
      "9\n",
      "10 1 2 3 11 21 55 6 8\n",
      "13\n"
     ]
    }
   ],
   "source": [
    "len_a, a, len_b, b = int(input()), set(map(int, input().split())), set(input()), set(map(int,input().split()))\n",
    "print(len(a.union(b)))"
   ]
  },
  {
   "cell_type": "markdown",
   "metadata": {},
   "source": [
    "#### Set .intersection() Operation"
   ]
  },
  {
   "cell_type": "code",
   "execution_count": 311,
   "metadata": {},
   "outputs": [
    {
     "name": "stdout",
     "output_type": "stream",
     "text": [
      "9\n",
      "1 2 3 4 5 6 7 8 9\n",
      "9\n",
      "10 1 2 3 11 21 55 6 8\n",
      "5\n"
     ]
    }
   ],
   "source": [
    "len_a, a, len_b, b = int(input()), set(map(int, input().split())), set(input()), set(map(int,input().split()))\n",
    "print(len(a.intersection(b)))"
   ]
  },
  {
   "cell_type": "markdown",
   "metadata": {},
   "source": [
    "#### Set .difference() Operation"
   ]
  },
  {
   "cell_type": "code",
   "execution_count": 309,
   "metadata": {},
   "outputs": [
    {
     "name": "stdout",
     "output_type": "stream",
     "text": [
      "9\n",
      "1 2 3 4 5 6 7 8 9\n",
      "9\n",
      "10 1 2 3 11 21 55 6 8\n",
      "4\n"
     ]
    }
   ],
   "source": [
    "len_a, a, len_b, b = int(input()), set(map(int, input().split())), int(input()), set(map(int,input().split()))\n",
    "print(len(a.difference(b)))"
   ]
  },
  {
   "cell_type": "markdown",
   "metadata": {},
   "source": [
    "#### Set .symmetric_difference() Operation\n",
    "\n"
   ]
  },
  {
   "cell_type": "code",
   "execution_count": 313,
   "metadata": {},
   "outputs": [
    {
     "name": "stdout",
     "output_type": "stream",
     "text": [
      "9\n",
      "1 2 3 4 5 6 7 8 9\n",
      "9\n",
      "10 1 2 3 11 21 55 6 8\n",
      "8\n"
     ]
    }
   ],
   "source": [
    "len_a, a, len_b, b = int(input()), set(map(int, input().split())), int(input()), set(map(int,input().split()))\n",
    "print(len(a^b))"
   ]
  },
  {
   "cell_type": "markdown",
   "metadata": {},
   "source": [
    "#### Set Mutations"
   ]
  },
  {
   "cell_type": "code",
   "execution_count": null,
   "metadata": {},
   "outputs": [],
   "source": []
  }
 ],
 "metadata": {
  "kernelspec": {
   "display_name": "Python 3",
   "language": "python",
   "name": "python3"
  },
  "language_info": {
   "codemirror_mode": {
    "name": "ipython",
    "version": 3
   },
   "file_extension": ".py",
   "mimetype": "text/x-python",
   "name": "python",
   "nbconvert_exporter": "python",
   "pygments_lexer": "ipython3",
   "version": "3.7.2"
  }
 },
 "nbformat": 4,
 "nbformat_minor": 2
}
