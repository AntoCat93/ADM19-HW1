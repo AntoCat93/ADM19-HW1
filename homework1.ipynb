{
 "cells": [
  {
   "cell_type": "markdown",
   "metadata": {},
   "source": [
    "# Problem 1 "
   ]
  },
  {
   "cell_type": "markdown",
   "metadata": {},
   "source": [
    "## Introduction"
   ]
  },
  {
   "cell_type": "markdown",
   "metadata": {},
   "source": [
    "#### Say \"Hello, World!\" With Python"
   ]
  },
  {
   "cell_type": "code",
   "execution_count": null,
   "metadata": {},
   "outputs": [],
   "source": [
    "print(\"Hello, World!\")"
   ]
  },
  {
   "cell_type": "markdown",
   "metadata": {},
   "source": [
    "#### Python If-Else"
   ]
  },
  {
   "cell_type": "code",
   "execution_count": null,
   "metadata": {
    "scrolled": true
   },
   "outputs": [],
   "source": [
    "n = int(input())\n",
    "if n%2:\n",
    "    print(\"Weird\")\n",
    "else:\n",
    "    if (n >= 2 and n <= 5) or n > 20:\n",
    "        print(\"Not Weird\")\n",
    "    else:\n",
    "        print(\"Weird\")"
   ]
  },
  {
   "cell_type": "markdown",
   "metadata": {},
   "source": [
    "#### Arithmetic Operators"
   ]
  },
  {
   "cell_type": "code",
   "execution_count": null,
   "metadata": {
    "scrolled": true
   },
   "outputs": [],
   "source": [
    "a = int(input())\n",
    "b = int(input())\n",
    "print(a+b)\n",
    "print(a-b)\n",
    "print(a*b)"
   ]
  },
  {
   "cell_type": "markdown",
   "metadata": {},
   "source": [
    "#### Python: Division"
   ]
  },
  {
   "cell_type": "code",
   "execution_count": null,
   "metadata": {},
   "outputs": [],
   "source": [
    "a = int(input())\n",
    "b = int(input())\n",
    "print(a//b)\n",
    "print(a/b)"
   ]
  },
  {
   "cell_type": "markdown",
   "metadata": {},
   "source": [
    "#### Loops"
   ]
  },
  {
   "cell_type": "code",
   "execution_count": null,
   "metadata": {},
   "outputs": [],
   "source": [
    "n = int(input())\n",
    "for i in range (0,n):\n",
    "    print(i**2)"
   ]
  },
  {
   "cell_type": "markdown",
   "metadata": {},
   "source": [
    "#### Write a function"
   ]
  },
  {
   "cell_type": "code",
   "execution_count": null,
   "metadata": {},
   "outputs": [],
   "source": [
    "def is_leap(year):\n",
    "    res = False\n",
    "    if not year % 4:\n",
    "        if not year % 100:\n",
    "            if not year % 400:\n",
    "                res = True\n",
    "            else:\n",
    "                res = False\n",
    "        else:\n",
    "            res = True\n",
    "    return res\n",
    "\n",
    "x = int(input())\n",
    "print(is_leap(x))"
   ]
  },
  {
   "cell_type": "markdown",
   "metadata": {},
   "source": [
    "#### Print Function"
   ]
  },
  {
   "cell_type": "code",
   "execution_count": null,
   "metadata": {},
   "outputs": [],
   "source": [
    "n = int(input())\n",
    "list_n = range(1,n+1)\n",
    "print(*list_n, sep = '')"
   ]
  },
  {
   "cell_type": "markdown",
   "metadata": {},
   "source": [
    "## Data types"
   ]
  },
  {
   "cell_type": "markdown",
   "metadata": {},
   "source": [
    "#### List Comprehensions"
   ]
  },
  {
   "cell_type": "code",
   "execution_count": null,
   "metadata": {},
   "outputs": [],
   "source": [
    "x = int(input())\n",
    "y = int(input())\n",
    "z = int(input())\n",
    "n = int(input())\n",
    "arr = [[i,j,k] for i in range(x+1) for j in range(y+1) for k in range(z+1) if i + j + k != n]\n",
    "print(arr)"
   ]
  },
  {
   "cell_type": "markdown",
   "metadata": {},
   "source": [
    "#### Find the Runner-Up Score!"
   ]
  },
  {
   "cell_type": "code",
   "execution_count": null,
   "metadata": {},
   "outputs": [],
   "source": [
    "n = int(input())\n",
    "arr = input().split()\n",
    "arr = [ int(x) for x in arr ]\n",
    "max_score = max(arr)\n",
    "new_arr = [i for i in arr if i != max_score]\n",
    "if len(new_arr) > 0:\n",
    "    print(max(new_arr))"
   ]
  },
  {
   "cell_type": "markdown",
   "metadata": {},
   "source": [
    "#### Nested Lists"
   ]
  },
  {
   "cell_type": "code",
   "execution_count": null,
   "metadata": {},
   "outputs": [],
   "source": [
    "n = int(input())\n",
    "arr = []\n",
    "votes = []\n",
    "for i in range(n):\n",
    "    name = input()\n",
    "    vote = float(input())\n",
    "    votes.append(vote)\n",
    "    arr.append([name, vote])\n",
    "second_vote = sorted(list(set(votes)))[1]\n",
    "second_names = [name for name, vote in arr if vote == second_vote]\n",
    "for name in sorted(second_names):\n",
    "    print(name)"
   ]
  },
  {
   "cell_type": "markdown",
   "metadata": {},
   "source": [
    "#### Finding the percentage"
   ]
  },
  {
   "cell_type": "code",
   "execution_count": null,
   "metadata": {
    "scrolled": true
   },
   "outputs": [],
   "source": [
    "n = int(input())\n",
    "student_marks = {}\n",
    "for _ in range(n):\n",
    "    name, *line = input().split()\n",
    "    scores = list(map(float, line))\n",
    "    student_marks[name] = scores\n",
    "query_name = input()\n",
    "print(\t\"{:.2f}\".format(sum(student_marks[query_name])/len(student_marks[query_name])))"
   ]
  },
  {
   "cell_type": "markdown",
   "metadata": {},
   "source": [
    "#### Lists"
   ]
  },
  {
   "cell_type": "code",
   "execution_count": null,
   "metadata": {},
   "outputs": [],
   "source": [
    "if __name__ == '__main__':\n",
    "    N = int(input())\n",
    "    res = [] \n",
    "    for i in range(N):\n",
    "        command = input().split()\n",
    "        function = command[0]\n",
    "        param_a = int(command[1]) if len(command) > 1 else ''\n",
    "        param_b = int(command[2]) if len(command) > 2 else ''\n",
    "        if function == \"print\":\n",
    "            print(res)\n",
    "        elif function == \"insert\":\n",
    "            res.insert(param_a, param_b)\n",
    "        elif function == \"append\":\n",
    "            res.append(param_a)\n",
    "        elif function == \"delete\":\n",
    "            res.delete(param_a)\n",
    "        elif function == \"reverse\":\n",
    "            res.reverse()\n",
    "        elif function == \"pop\":\n",
    "            res.pop()\n",
    "        elif function == \"sort\":\n",
    "            res.sort()"
   ]
  },
  {
   "cell_type": "markdown",
   "metadata": {},
   "source": [
    "#### Tuples"
   ]
  },
  {
   "cell_type": "code",
   "execution_count": null,
   "metadata": {},
   "outputs": [],
   "source": [
    "if __name__ == '__main__':\n",
    "    n = int(input())\n",
    "    integer_list = map(int, input().split())\n",
    "    print(hash(tuple(integer_list)))"
   ]
  },
  {
   "cell_type": "markdown",
   "metadata": {},
   "source": [
    "## Strings"
   ]
  },
  {
   "cell_type": "markdown",
   "metadata": {},
   "source": [
    "#### sWAP cASE"
   ]
  },
  {
   "cell_type": "code",
   "execution_count": null,
   "metadata": {},
   "outputs": [],
   "source": [
    "def swap_case(s):\n",
    "    return s.swapcase()\n",
    "\n",
    "if __name__ == '__main__':\n",
    "    s = input()\n",
    "    result = swap_case(s)\n",
    "    print(result)"
   ]
  },
  {
   "cell_type": "markdown",
   "metadata": {},
   "source": [
    "#### String Split and Join"
   ]
  },
  {
   "cell_type": "code",
   "execution_count": null,
   "metadata": {},
   "outputs": [],
   "source": [
    "def split_and_join(line):\n",
    "    return \"-\".join(line.split())\n",
    "    \n",
    "if __name__ == '__main__':\n",
    "    line = input()\n",
    "    result = split_and_join(line)\n",
    "    print(result)"
   ]
  },
  {
   "cell_type": "markdown",
   "metadata": {},
   "source": [
    "#### What's Your Name?"
   ]
  },
  {
   "cell_type": "code",
   "execution_count": null,
   "metadata": {},
   "outputs": [],
   "source": [
    "def print_full_name(a, b):\n",
    "    print(\"Hello {} {}! You just delved into python.\".format(a,b))\n",
    "\n",
    "if __name__ == '__main__':\n",
    "    first_name = input()\n",
    "    last_name = input()\n",
    "    print_full_name(first_name, last_name)"
   ]
  },
  {
   "cell_type": "markdown",
   "metadata": {},
   "source": [
    "#### Mutations"
   ]
  },
  {
   "cell_type": "code",
   "execution_count": null,
   "metadata": {},
   "outputs": [],
   "source": [
    "def mutate_string(string, position, character):\n",
    "    return string[:position] + character + string[position+1:]\n",
    "\n",
    "if __name__ == '__main__':\n",
    "    s = input()\n",
    "    i, c = input().split()\n",
    "    s_new = mutate_string(s, int(i), c)\n",
    "    print(s_new)"
   ]
  },
  {
   "cell_type": "markdown",
   "metadata": {},
   "source": [
    "#### Find a string"
   ]
  },
  {
   "cell_type": "code",
   "execution_count": null,
   "metadata": {},
   "outputs": [],
   "source": [
    "def count_substring(string, sub_string):\n",
    "    count = 0\n",
    "    for i in range(len(string)):\n",
    "        if sub_string == string[i:i+len(sub_string)]:\n",
    "            count = count + 1\n",
    "    return count\n",
    "                \n",
    "\n",
    "if __name__ == '__main__':\n",
    "    string = input().strip()\n",
    "    sub_string = input().strip()\n",
    "    \n",
    "    count = count_substring(string, sub_string)\n",
    "    print(count)"
   ]
  },
  {
   "cell_type": "markdown",
   "metadata": {},
   "source": [
    "#### String Validators"
   ]
  },
  {
   "cell_type": "code",
   "execution_count": null,
   "metadata": {},
   "outputs": [],
   "source": [
    "if __name__ == '__main__':\n",
    "    s = input()\n",
    "    isTrue = False\n",
    "    for i in range(len(s)):\n",
    "        if s[i].isalnum():\n",
    "            isTrue = True\n",
    "    print(isTrue)\n",
    "    isTrue = False\n",
    "    for i in range(len(s)):\n",
    "        if s[i].isalpha():\n",
    "            isTrue = True\n",
    "    print(isTrue)\n",
    "    isTrue = False\n",
    "    for i in range(len(s)):\n",
    "        if s[i].isdigit():\n",
    "            isTrue = True\n",
    "    print(isTrue)\n",
    "    isTrue = False\n",
    "    for i in range(len(s)):\n",
    "        if s[i].islower():\n",
    "            isTrue = True\n",
    "    print(isTrue)\n",
    "    isTrue = False\n",
    "    for i in range(len(s)):\n",
    "        if s[i].isupper():\n",
    "            isTrue = True\n",
    "    print(isTrue)"
   ]
  },
  {
   "cell_type": "markdown",
   "metadata": {},
   "source": [
    "#### Text Wrap"
   ]
  },
  {
   "cell_type": "code",
   "execution_count": null,
   "metadata": {},
   "outputs": [],
   "source": [
    "import textwrap\n",
    "\n",
    "def wrap(string, max_width):\n",
    "    return \"\\n\".join([string[i:i+max_width] for i in range(0, len(string), max_width)])\n",
    "\n",
    "if __name__ == '__main__':\n",
    "    string, max_width = input(), int(input())\n",
    "    result = wrap(string, max_width)\n",
    "    print(result)"
   ]
  },
  {
   "cell_type": "markdown",
   "metadata": {},
   "source": [
    "#### Designer Door Mat"
   ]
  },
  {
   "cell_type": "code",
   "execution_count": null,
   "metadata": {},
   "outputs": [],
   "source": [
    "N, M = map(int, input().split())\n",
    "for i in range(0, N//2):\n",
    "    factor = 2*i + 1\n",
    "    print('-'*(M//2-factor-i),factor * '.|.',(M//2-factor-i) * '-', sep = \"\")\n",
    "print((M//2-3)*'-', \"WELCOME\", (M//2-3)*'-', sep =\"\")\n",
    "for i in reversed(range(0, N//2)):\n",
    "    factor = 2*i + 1\n",
    "    print('-'*(M//2-factor-i),factor * '.|.',(M//2-factor-i) * '-', sep = \"\")"
   ]
  },
  {
   "cell_type": "markdown",
   "metadata": {},
   "source": [
    "#### String Formatting"
   ]
  },
  {
   "cell_type": "code",
   "execution_count": null,
   "metadata": {},
   "outputs": [],
   "source": [
    "def print_formatted(n):\n",
    "    # your code goes here\n",
    "    max_str_binary = \"{0:b}\".format(n)\n",
    "    len_max_binary = len(max_str_binary)\n",
    "    for i in range(1,n+1):\n",
    "        print(\"{0:{len}d} {0:{len}o} {0:{len}X} {0:{len}b}\".format(i, len = len_max_binary))\n",
    "    \n",
    "if __name__ == '__main__':\n",
    "    n = int(input())\n",
    "    print_formatted(n)"
   ]
  },
  {
   "cell_type": "markdown",
   "metadata": {},
   "source": [
    "#### Alphabet Rangoli"
   ]
  },
  {
   "cell_type": "code",
   "execution_count": null,
   "metadata": {},
   "outputs": [],
   "source": [
    "def print_rangoli(size):\n",
    "    res = []\n",
    "    lens = (size * 4 - 3)\n",
    "    for i in range(size):\n",
    "        s = ''\n",
    "        for j in reversed(range(size-i-1, size)):\n",
    "            s = s +(chr(ord('a') + j)) + \"-\"\n",
    "        for j in range(size-i, size):\n",
    "            s = s +(chr(ord('a') + j)) + \"-\"\n",
    "        s = s[:-1]\n",
    "        s = '-' * ((lens - len(s)) //2) + s + '-' * ((lens - len(s)) //2) \n",
    "        res.insert(i,s)\n",
    "    cnt = 0\n",
    "    for el in reversed(res):\n",
    "        if cnt != 0:\n",
    "            res.append(el)\n",
    "        cnt = cnt +1\n",
    "    print(\"\\n\".join(res))\n",
    "    \n",
    "if __name__ == '__main__':\n",
    "    n = int(input())\n",
    "    print_rangoli(n)"
   ]
  },
  {
   "cell_type": "markdown",
   "metadata": {},
   "source": [
    "#### Capitalize!"
   ]
  },
  {
   "cell_type": "code",
   "execution_count": null,
   "metadata": {},
   "outputs": [],
   "source": [
    "#!/bin/python3\n",
    "\n",
    "import math\n",
    "import os\n",
    "import random\n",
    "import re\n",
    "import sys\n",
    "\n",
    "# Complete the solve function below.\n",
    "def solve(s):\n",
    "    arr = [ x.capitalize() for x in s.split(\" \")]\n",
    "    return \" \".join(arr)\n",
    "    \n",
    "if __name__ == '__main__':\n",
    "    fptr = open(os.environ['OUTPUT_PATH'], 'w')\n",
    "\n",
    "    s = input()\n",
    "\n",
    "    result = solve(s)\n",
    "\n",
    "    fptr.write(result + '\\n')\n",
    "\n",
    "    fptr.close()"
   ]
  },
  {
   "cell_type": "markdown",
   "metadata": {},
   "source": [
    "#### The Minion Game"
   ]
  },
  {
   "cell_type": "code",
   "execution_count": null,
   "metadata": {},
   "outputs": [],
   "source": [
    "def minion_game(string):\n",
    "    # your code goes here\n",
    "    score_stuart = 0\n",
    "    score_kevin = 0\n",
    "    vowels = ['A', 'E', 'I', 'O', 'U']\n",
    "    for i in range(len(string)):\n",
    "        for j in range(i+1,len(string)+1):\n",
    "            if string[i:j] != '':\n",
    "                if string[i] not in vowels:\n",
    "                    score_stuart = score_stuart + 1\n",
    "                elif string[i] in vowels:\n",
    "                    score_kevin = score_kevin + 1\n",
    "    if score_stuart > score_kevin:\n",
    "        print(\"Stuart \" + str(score_stuart))\n",
    "    elif score_kevin > score_stuart:\n",
    "        print(\"Kevin \" + str(score_kevin))\n",
    "    else:\n",
    "        print(\"Draw\")\n",
    "    \n",
    "if __name__ == '__main__':\n",
    "    s = input()\n",
    "    minion_game(s)"
   ]
  },
  {
   "cell_type": "markdown",
   "metadata": {},
   "source": [
    "#### Merge the Tools!"
   ]
  },
  {
   "cell_type": "code",
   "execution_count": null,
   "metadata": {},
   "outputs": [],
   "source": [
    "def merge_the_tools(string, k):\n",
    "    # your code goes here\n",
    "    size = len(string)\n",
    "    substrs = [string[i:i+k] for i in range(0, size, k)]\n",
    "    res = []\n",
    "    for el in substrs:\n",
    "        new_substr = \"\"\n",
    "        for a in el:\n",
    "            new_substr = (new_substr + a if a not in new_substr else new_substr)\n",
    "        res.append(new_substr)\n",
    "    print(*res, sep=\"\\n\")\n",
    "    \n",
    "if __name__ == '__main__':\n",
    "    string, k = input(), int(input())\n",
    "    merge_the_tools(string, k)"
   ]
  },
  {
   "cell_type": "markdown",
   "metadata": {},
   "source": [
    "## SET"
   ]
  },
  {
   "cell_type": "markdown",
   "metadata": {},
   "source": [
    "#### Introduction to Sets"
   ]
  },
  {
   "cell_type": "code",
   "execution_count": null,
   "metadata": {},
   "outputs": [],
   "source": [
    "def average(array):\n",
    "    # your code goes here\n",
    "    return sum(set(array)) / len(set(array))\n",
    "\n",
    "if __name__ == '__main__':\n",
    "    n = int(input())\n",
    "    arr = list(map(int, input().split()))\n",
    "    result = average(arr)\n",
    "    print(result)"
   ]
  },
  {
   "cell_type": "markdown",
   "metadata": {},
   "source": [
    "#### Symmetric Difference\n",
    "\n"
   ]
  },
  {
   "cell_type": "code",
   "execution_count": null,
   "metadata": {},
   "outputs": [],
   "source": [
    "len_a, a, len_b, b = int(input()), list(map(int, input().split())), int(input()), list(map(int,input().split()))\n",
    "print(*sorted(set(a) ^ set(b)),sep = \"\\n\")"
   ]
  },
  {
   "cell_type": "markdown",
   "metadata": {},
   "source": [
    "#### No Idea!"
   ]
  },
  {
   "cell_type": "code",
   "execution_count": null,
   "metadata": {},
   "outputs": [],
   "source": [
    "nm = list(map(int, input().split()))\n",
    "n = nm[0]\n",
    "m = nm[1]\n",
    "arr_n, a, b = list(map(int, input().split())), set(map(int, input().split())), set(map(int, input().split()))\n",
    "score = 0\n",
    "for el in arr_n:\n",
    "    if el in a:\n",
    "        score += 1\n",
    "    elif el in b:\n",
    "        score -= 1\n",
    "print(score)"
   ]
  },
  {
   "cell_type": "markdown",
   "metadata": {},
   "source": [
    "#### Set .add()"
   ]
  },
  {
   "cell_type": "code",
   "execution_count": null,
   "metadata": {},
   "outputs": [],
   "source": [
    "N = int(input())\n",
    "states = [ input() for _ in range(N)]\n",
    "print(len(set(states)))"
   ]
  },
  {
   "cell_type": "markdown",
   "metadata": {},
   "source": [
    "#### Set .discard(), .remove() & .pop()"
   ]
  },
  {
   "cell_type": "code",
   "execution_count": null,
   "metadata": {},
   "outputs": [],
   "source": [
    "n = int(input())\n",
    "s = set(map(int, input().split()))\n",
    "N = int(input())\n",
    "for _ in range(N):\n",
    "    command = input().split()\n",
    "    function = command[0]\n",
    "    param = int(command[1]) if len(command) > 1 else ''\n",
    "    if function == \"remove\":\n",
    "        s.remove(param)\n",
    "    elif function == \"discard\":\n",
    "        s.discard(param)\n",
    "    elif function == \"pop\":\n",
    "        s.pop()\n",
    "sum_s = 0\n",
    "for num in s:\n",
    "    sum_s += num\n",
    "print(sum_s)\n",
    "    "
   ]
  },
  {
   "cell_type": "markdown",
   "metadata": {},
   "source": [
    "#### Set .union() Operation\n",
    "\n"
   ]
  },
  {
   "cell_type": "code",
   "execution_count": null,
   "metadata": {},
   "outputs": [],
   "source": [
    "len_a, a, len_b, b = int(input()), set(map(int, input().split())), set(input()), set(map(int,input().split()))\n",
    "print(len(a.union(b)))"
   ]
  },
  {
   "cell_type": "markdown",
   "metadata": {},
   "source": [
    "#### Set .intersection() Operation"
   ]
  },
  {
   "cell_type": "code",
   "execution_count": null,
   "metadata": {},
   "outputs": [],
   "source": [
    "len_a, a, len_b, b = int(input()), set(map(int, input().split())), set(input()), set(map(int,input().split()))\n",
    "print(len(a.intersection(b)))"
   ]
  },
  {
   "cell_type": "markdown",
   "metadata": {},
   "source": [
    "#### Set .difference() Operation"
   ]
  },
  {
   "cell_type": "code",
   "execution_count": null,
   "metadata": {},
   "outputs": [],
   "source": [
    "len_a, a, len_b, b = int(input()), set(map(int, input().split())), int(input()), set(map(int,input().split()))\n",
    "print(len(a.difference(b)))"
   ]
  },
  {
   "cell_type": "markdown",
   "metadata": {},
   "source": [
    "#### Set .symmetric_difference() Operation\n",
    "\n"
   ]
  },
  {
   "cell_type": "code",
   "execution_count": null,
   "metadata": {},
   "outputs": [],
   "source": [
    "len_a, a, len_b, b = int(input()), set(map(int, input().split())), int(input()), set(map(int,input().split()))\n",
    "print(len(a^b))"
   ]
  },
  {
   "cell_type": "markdown",
   "metadata": {},
   "source": [
    "#### Set Mutations"
   ]
  },
  {
   "cell_type": "code",
   "execution_count": null,
   "metadata": {},
   "outputs": [],
   "source": [
    "N_a, A, N_B = int(input()), set(map(int, input().split())), int(input())\n",
    "for _ in range(N_B):\n",
    "    operation = input().split()[0]\n",
    "    B = set(map(int, input().split()))\n",
    "    if operation == 'update':\n",
    "        A.update(B)\n",
    "    elif operation == 'intersection_update':\n",
    "        A.intersection_update(B)\n",
    "    elif operation == 'difference_update':\n",
    "        A.difference_update(B)\n",
    "    elif operation == 'symmetric_difference_update':\n",
    "        A.symmetric_difference_update(B)\n",
    "print (sum(A))"
   ]
  },
  {
   "cell_type": "markdown",
   "metadata": {},
   "source": [
    "#### The Captain's Room"
   ]
  },
  {
   "cell_type": "code",
   "execution_count": null,
   "metadata": {},
   "outputs": [],
   "source": [
    "def findCaptainRoom(l):\n",
    "    for i in range(len(l)):\n",
    "        if i == 0 and l[i] != l[i+1]:\n",
    "            return l[i]\n",
    "        elif i == len(l) -1 and l[i] != l[i-1]:\n",
    "            return l[i]\n",
    "        else:\n",
    "            if l[i] != l[i-1] and l[i] != l[i+1]:\n",
    "                return l[i]\n",
    "            \n",
    "            \n",
    "if __name__ == '__main__':\n",
    "    K, l = int(input()), sorted(list(map(int, input().split())))\n",
    "    print(findCaptainRoom(l))\n",
    "\n",
    "            \n",
    "        "
   ]
  },
  {
   "cell_type": "markdown",
   "metadata": {},
   "source": [
    "#### Check Subset"
   ]
  },
  {
   "cell_type": "code",
   "execution_count": null,
   "metadata": {},
   "outputs": [],
   "source": [
    "N = int(input())\n",
    "for _ in range(N):\n",
    "    len_A, A, len_B, B = int(input()), set(map(int, input().split())), int(input()), set(map(int, input().split()))\n",
    "    if A.issubset(B):\n",
    "        print(True)\n",
    "    else:\n",
    "        print(False)"
   ]
  },
  {
   "cell_type": "markdown",
   "metadata": {},
   "source": [
    "#### Check Strict Superset\n",
    "\n"
   ]
  },
  {
   "cell_type": "code",
   "execution_count": null,
   "metadata": {},
   "outputs": [],
   "source": [
    "A, N = set(map(int, input().split())), int(input())\n",
    "res = True\n",
    "for _ in range(N):\n",
    "    B = set(map(int, input().split()))\n",
    "    if not B.issubset(A) or len(B) >= len(A):\n",
    "        res = False\n",
    "print(res)"
   ]
  },
  {
   "cell_type": "markdown",
   "metadata": {},
   "source": [
    "## Collection"
   ]
  },
  {
   "cell_type": "markdown",
   "metadata": {},
   "source": [
    "#### collections.Counter()"
   ]
  },
  {
   "cell_type": "code",
   "execution_count": null,
   "metadata": {},
   "outputs": [],
   "source": [
    "from collections import Counter\n",
    "N, sizes, C = int(input()), list(map(int, input().split())), int(input())\n",
    "counter = Counter(sizes)\n",
    "money = 0\n",
    "for _ in range(C):\n",
    "    client = list(map(int, input().split()))\n",
    "    if counter[client[0]] > 0:\n",
    "        counter[client[0]] -= 1\n",
    "        money += client[1]\n",
    "print(money)"
   ]
  },
  {
   "cell_type": "markdown",
   "metadata": {},
   "source": [
    "#### DefaultDict Tutorial"
   ]
  },
  {
   "cell_type": "code",
   "execution_count": null,
   "metadata": {},
   "outputs": [],
   "source": [
    "from collections import defaultdict\n",
    "lenA, lenB = map(int, input().split())\n",
    "dictA = defaultdict(list) \n",
    "for i in range(lenA):\n",
    "    dictA[str(input())].append(i+1)\n",
    "B = [input() for _ in range(lenB)]\n",
    "for el in B:    \n",
    "    if el in dictA:\n",
    "        print(*dictA[el])\n",
    "    else:\n",
    "        print(-1)"
   ]
  },
  {
   "cell_type": "markdown",
   "metadata": {},
   "source": [
    "#### collections.OrderedDict()\n"
   ]
  },
  {
   "cell_type": "code",
   "execution_count": null,
   "metadata": {},
   "outputs": [],
   "source": [
    "from collections import OrderedDict\n",
    "lenOrder = int(input())\n",
    "orders = OrderedDict()\n",
    "for _ in range(lenOrder):\n",
    "    order = input().split()\n",
    "    el = \" \".join(order[:-1])\n",
    "    prize = int(order[-1])\n",
    "    if el in orders:\n",
    "        orders[el] += prize       \n",
    "    else:\n",
    "        orders[el] = prize\n",
    "for el in orders.items():\n",
    "    print(el[0], el[1])"
   ]
  },
  {
   "cell_type": "markdown",
   "metadata": {},
   "source": [
    "#### Collections.namedtuple()"
   ]
  },
  {
   "cell_type": "code",
   "execution_count": null,
   "metadata": {},
   "outputs": [],
   "source": [
    "from collections import namedtuple\n",
    "N, Student, students, sum_marks = int(input()), namedtuple('Student', input().split()), [], 0 \n",
    "for _ in range(N):\n",
    "    s_input = input().split()\n",
    "    s = Student(s_input[0], s_input[1], s_input[2], s_input[3])\n",
    "    sum_marks += float(s.MARKS)\n",
    "print('{0:.2f}'.format(sum_marks/N))"
   ]
  },
  {
   "cell_type": "markdown",
   "metadata": {},
   "source": [
    "#### Word Order"
   ]
  },
  {
   "cell_type": "code",
   "execution_count": null,
   "metadata": {},
   "outputs": [],
   "source": [
    "from collections import Counter\n",
    "N  = int(input())\n",
    "A = [input() for _ in  range(N)]\n",
    "counter = Counter(A)\n",
    "print(len(counter))\n",
    "print(*counter.values())"
   ]
  },
  {
   "cell_type": "markdown",
   "metadata": {},
   "source": [
    "#### Collections.deque()"
   ]
  },
  {
   "cell_type": "markdown",
   "metadata": {},
   "source": [
    "#### Company logo"
   ]
  },
  {
   "cell_type": "markdown",
   "metadata": {},
   "source": [
    "#### Piling Up!"
   ]
  },
  {
   "cell_type": "markdown",
   "metadata": {},
   "source": [
    "## Date and Time"
   ]
  },
  {
   "cell_type": "markdown",
   "metadata": {},
   "source": [
    "#### Calendar Module"
   ]
  },
  {
   "cell_type": "markdown",
   "metadata": {},
   "source": [
    "#### Time Delta"
   ]
  },
  {
   "cell_type": "markdown",
   "metadata": {},
   "source": [
    "## Exceptions"
   ]
  },
  {
   "cell_type": "markdown",
   "metadata": {},
   "source": [
    "#### Exceptions"
   ]
  },
  {
   "cell_type": "code",
   "execution_count": null,
   "metadata": {},
   "outputs": [],
   "source": [
    "N = int(input())\n",
    "op = [input().split() for _ in range(N)]\n",
    "for ab in op:\n",
    "    try:\n",
    "        print( int(ab[0]) // int(ab[1]) )\n",
    "    except Exception as e:\n",
    "        print(\"Error Code:\",e)"
   ]
  },
  {
   "cell_type": "markdown",
   "metadata": {},
   "source": [
    "## Bult-in"
   ]
  },
  {
   "cell_type": "markdown",
   "metadata": {},
   "source": [
    "#### Zipped"
   ]
  },
  {
   "cell_type": "code",
   "execution_count": null,
   "metadata": {},
   "outputs": [],
   "source": [
    "Nstud, Nsubj = list(map(int, input().split()))\n",
    "sub_scores = [list(map(float, input().split())) for _ in range(Nsubj)]\n",
    "s = []\n",
    "for el in sub_scores:\n",
    "    s += [el]\n",
    "for el in list(zip(*s)):\n",
    "    print(sum(el)/len(el))"
   ]
  },
  {
   "cell_type": "markdown",
   "metadata": {},
   "source": [
    "#### Athlete Sort"
   ]
  },
  {
   "cell_type": "code",
   "execution_count": null,
   "metadata": {},
   "outputs": [],
   "source": [
    "import math\n",
    "import os\n",
    "import random\n",
    "import re\n",
    "import sys\n",
    "\n",
    "if __name__ == '__main__':\n",
    "    nm = input().split()\n",
    "    n = int(nm[0])\n",
    "    m = int(nm[1])\n",
    "    arr = []\n",
    "    for _ in range(n):\n",
    "        arr.append(list(map(int, input().rstrip().split())))\n",
    "    k = int(input())\n",
    "    # i found this solution on google for nested list's sorting option\n",
    "    arr.sort(key=lambda x: x[k])\n",
    "    for el in arr:\n",
    "        print(*el)"
   ]
  },
  {
   "cell_type": "markdown",
   "metadata": {},
   "source": [
    "#### GinortS"
   ]
  },
  {
   "cell_type": "code",
   "execution_count": null,
   "metadata": {},
   "outputs": [],
   "source": [
    "s = input()\n",
    "odd, even, upper, lower = [], [], [], [] \n",
    "for char in s:\n",
    "    if char.isdigit():\n",
    "        if int(char) % 2:\n",
    "            odd.append(char)\n",
    "        else:\n",
    "            even.append(char)\n",
    "    elif char.isupper():\n",
    "        upper.append(char)\n",
    "    else:\n",
    "        lower.append(char)\n",
    "print(*sorted(lower), *sorted(upper), *sorted(odd), *sorted(even), sep=\"\")"
   ]
  },
  {
   "cell_type": "markdown",
   "metadata": {},
   "source": [
    "## Python Functionals"
   ]
  },
  {
   "cell_type": "markdown",
   "metadata": {},
   "source": [
    "#### Map and Lambda Function"
   ]
  },
  {
   "cell_type": "code",
   "execution_count": null,
   "metadata": {},
   "outputs": [],
   "source": [
    "cube = lambda x: x*x*x\n",
    "\n",
    "def fibonacci(n):\n",
    "    fibarr = []\n",
    "    el = 0\n",
    "    for i in range(n):\n",
    "        if i == 0 or i == 1:\n",
    "            fibarr.append(i)\n",
    "        else:\n",
    "            fibarr.append( int(fibarr[-1])+int(fibarr[-2]))\n",
    "    return fibarr\n",
    "\n",
    "if __name__ == '__main__':\n",
    "    n = int(input())\n",
    "    print(list(map(cube, fibonacci(n))))"
   ]
  },
  {
   "cell_type": "markdown",
   "metadata": {},
   "source": [
    "## Regex and Parsing Challenges"
   ]
  },
  {
   "cell_type": "markdown",
   "metadata": {},
   "source": [
    "#### Detect Floating Point Number"
   ]
  },
  {
   "cell_type": "code",
   "execution_count": null,
   "metadata": {},
   "outputs": [],
   "source": [
    "import re\n",
    "N = int(input())\n",
    "bools = [bool(re.match(r\"^(\\+|-){0,1}[0-9]*\\.+[0-9]+$\", input())) for _ in range(N)]\n",
    "for el in bools:\n",
    "    print(el)"
   ]
  },
  {
   "cell_type": "markdown",
   "metadata": {},
   "source": [
    "#### Re.split()"
   ]
  },
  {
   "cell_type": "code",
   "execution_count": null,
   "metadata": {},
   "outputs": [],
   "source": [
    "regex_pattern = r\",|\\.\"\t# Do not delete 'r'.\n",
    "\n",
    "import re\n",
    "print(\"\\n\".join(re.split(regex_pattern, input())))"
   ]
  },
  {
   "cell_type": "markdown",
   "metadata": {},
   "source": [
    "#### Group(), Groups() & Groupdict()\n",
    "\n"
   ]
  },
  {
   "cell_type": "code",
   "execution_count": null,
   "metadata": {},
   "outputs": [],
   "source": [
    "s = input()\n",
    "old_char = ''\n",
    "rep = -1\n",
    "for el in s:\n",
    "    if el.isalnum():\n",
    "        if el == old_char:\n",
    "            rep = el\n",
    "            break\n",
    "        else:\n",
    "            old_char = el\n",
    "print(rep)"
   ]
  },
  {
   "cell_type": "markdown",
   "metadata": {},
   "source": [
    "#### Re.findall() & Re.finditer()\n",
    "\n"
   ]
  },
  {
   "cell_type": "code",
   "execution_count": null,
   "metadata": {},
   "outputs": [],
   "source": [
    "import re\n",
    "vowels = \"[aeiouAEIOU]\"\n",
    "consonants = '[qwrtypsdfghjklzxcvbnm]'\n",
    "#found on the web how to match these cases \n",
    "a = re.findall('(?<=' + consonants +')('+ vowels +'{2,})' + consonants, input())\n",
    "if len(a) > 0:\n",
    "    print(*a, sep=\"\\n\")\n",
    "else:\n",
    "    print(-1)"
   ]
  },
  {
   "cell_type": "markdown",
   "metadata": {},
   "source": [
    "## XML"
   ]
  },
  {
   "cell_type": "markdown",
   "metadata": {},
   "source": [
    "#### XML 1 - Find the Score"
   ]
  },
  {
   "cell_type": "code",
   "execution_count": null,
   "metadata": {},
   "outputs": [],
   "source": [
    "import sys\n",
    "import xml.etree.ElementTree as etree\n",
    "\n",
    "def get_attr_number(node):\n",
    "    n = 0\n",
    "    for i in node.iter():\n",
    "        n += len(i.attrib)\n",
    "    return n\n",
    "\n",
    "if __name__ == '__main__':\n",
    "    sys.stdin.readline()\n",
    "    xml = sys.stdin.read()\n",
    "    tree = etree.ElementTree(etree.fromstring(xml))\n",
    "    root = tree.getroot()\n",
    "    print(get_attr_number(root))"
   ]
  },
  {
   "cell_type": "markdown",
   "metadata": {},
   "source": [
    "## Closures and Decorations"
   ]
  },
  {
   "cell_type": "markdown",
   "metadata": {},
   "source": [
    "#### Standardize Mobile Number Using Decorators"
   ]
  },
  {
   "cell_type": "code",
   "execution_count": null,
   "metadata": {},
   "outputs": [],
   "source": [
    "def wrapper(f):\n",
    "    def fun(l):\n",
    "        print (*sorted(([\"+91 \" + el[-10:-5] + \" \" + el[-5:] for el in l])), sep=\"\\n\")\n",
    "    return fun\n",
    "\n",
    "@wrapper\n",
    "def sort_phone(l):\n",
    "    print(*sorted(l), sep='\\n')\n",
    "\n",
    "if __name__ == '__main__':\n",
    "    l = [input() for _ in range(int(input()))]\n",
    "    sort_phone(l)"
   ]
  },
  {
   "cell_type": "markdown",
   "metadata": {},
   "source": [
    "#### Decorators 2 - Name Directory\n",
    "\n"
   ]
  },
  {
   "cell_type": "code",
   "execution_count": null,
   "metadata": {},
   "outputs": [],
   "source": [
    "import operator\n",
    "from operator import itemgetter\n",
    "\n",
    "def person_lister(f):\n",
    "    def inner(people):\n",
    "        return [(\"Mr. \" if person[3] == \"M\" else \"Ms. \") + person[0] + \" \" + person[1]for person in sorted(people, key=lambda x: int(x[2]))]\n",
    "    return inner\n",
    "\n",
    "@person_lister\n",
    "def name_format(person):\n",
    "    return (\"Mr. \" if person[3] == \"M\" else \"Ms. \") + person[0] + \" \" + person[1]\n",
    "\n",
    "if __name__ == '__main__':\n",
    "    people = [input().split() for i in range(int(input()))]\n",
    "    print(*name_format(people), sep='\\n')"
   ]
  },
  {
   "cell_type": "markdown",
   "metadata": {},
   "source": [
    "## Numpy"
   ]
  },
  {
   "cell_type": "markdown",
   "metadata": {},
   "source": [
    "#### Arrays"
   ]
  },
  {
   "cell_type": "code",
   "execution_count": 27,
   "metadata": {},
   "outputs": [
    {
     "name": "stdout",
     "output_type": "stream",
     "text": [
      "1 2 3 4 5\n",
      "[5. 4. 3. 2. 1.]\n"
     ]
    }
   ],
   "source": [
    "import numpy\n",
    "\n",
    "def arrays(arr):\n",
    "    return numpy.array(arr,float)[::-1]\n",
    "    \n",
    "arr = input().strip().split(' ')\n",
    "result = arrays(arr)\n",
    "print(result)"
   ]
  },
  {
   "cell_type": "markdown",
   "metadata": {},
   "source": []
  },
  {
   "cell_type": "code",
   "execution_count": null,
   "metadata": {},
   "outputs": [],
   "source": []
  }
 ],
 "metadata": {
  "kernelspec": {
   "display_name": "Python 3",
   "language": "python",
   "name": "python3"
  },
  "language_info": {
   "codemirror_mode": {
    "name": "ipython",
    "version": 3
   },
   "file_extension": ".py",
   "mimetype": "text/x-python",
   "name": "python",
   "nbconvert_exporter": "python",
   "pygments_lexer": "ipython3",
   "version": "3.7.2"
  }
 },
 "nbformat": 4,
 "nbformat_minor": 2
}
